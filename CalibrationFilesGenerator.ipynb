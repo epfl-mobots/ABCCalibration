{
 "cells": [
  {
   "cell_type": "markdown",
   "id": "fbe38464",
   "metadata": {},
   "source": [
    "# This nb is used to generate the calibration files for the different ABCs' heaters"
   ]
  },
  {
   "cell_type": "markdown",
   "id": "1a249533",
   "metadata": {},
   "source": [
    "## Imports"
   ]
  },
  {
   "cell_type": "code",
   "execution_count": 1,
   "id": "7c76c467",
   "metadata": {},
   "outputs": [],
   "source": [
    "import pandas as pd\n",
    "from InfluxDBInterface.libdb import download_data_DB\n",
    "from libcal import getUUIDFromBoardID, frameBasePower, findMaxHtrPowers"
   ]
  },
  {
   "cell_type": "markdown",
   "id": "6e95743f",
   "metadata": {},
   "source": [
    "## Configuration"
   ]
  },
  {
   "cell_type": "code",
   "execution_count": 2,
   "id": "5b64fd6e",
   "metadata": {},
   "outputs": [],
   "source": [
    "board_id = \"abc05\""
   ]
  },
  {
   "cell_type": "markdown",
   "id": "68ecfeef",
   "metadata": {},
   "source": [
    "## Main code"
   ]
  },
  {
   "cell_type": "code",
   "execution_count": null,
   "id": "9099c85c",
   "metadata": {},
   "outputs": [
    {
     "name": "stdout",
     "output_type": "stream",
     "text": [
      "Found 21352 entries between 2023-10-01 00:00:00+00:00 and 2025-10-21 08:51:20.961784+00:00 for board ID abc05.\n",
      "Base power consumption: 0.505 W\n"
     ]
    }
   ],
   "source": [
    "first_dt = pd.Timestamp(\"2023-10-01T00:00:00Z\")\n",
    "last_dt = pd.Timestamp.now(tz=pd.Timestamp.utcnow().tz)\n",
    "res = 10 # resolution in seconds.\n",
    "bucket = \"abc_testing\"\n",
    "\n",
    "mcu_uuid = getUUIDFromBoardID(board_id)\n",
    "if mcu_uuid is None:\n",
    "    raise ValueError(f\"Board ID {board_id} not found in the database.\")\n",
    "\n",
    "filters = {\n",
    "    \"measurement\": [\"pwr\", \"htr\"],\n",
    "    \"mcu_uuid\": mcu_uuid\n",
    "}\n",
    "\n",
    "data = download_data_DB(bucket, first_dt, last_dt, res, filters)\n",
    "print(f\"Found {len(data)} entries between {first_dt} and {last_dt} for board ID {board_id}.\")\n",
    "\n",
    "base_power = frameBasePower(data)\n",
    "print(f\"Base power consumption: {base_power} W\")\n",
    "\n",
    "max_htr_powers = findMaxHtrPowers(data, base_power)\n",
    "print(f\"Max heater powers (W) for {board_id}:\")\n",
    "print(max_htr_powers)\n",
    "\n",
    "# Save the pd.Series as a new line to a CSV file\n",
    "csv_file = \"max_pwm_powers.csv\"\n",
    "df = max_htr_powers.to_frame().T\n",
    "df.insert(0, \"board_id\", board_id)\n",
    "df.loc[0, \"base\"] = base_power\n",
    "\n",
    "# If file does not exist, create it and write header\n",
    "try:\n",
    "    with open(csv_file, 'x') as f:\n",
    "        df.to_csv(f, index=False)\n",
    "except FileExistsError:\n",
    "    # If file exists, append without writing the header\n",
    "    with open(csv_file, 'a') as f:\n",
    "        # If a line starts with the same board_id, we want to update it instead of appending.\n",
    "        existing_df = pd.read_csv(csv_file)\n",
    "        if not ((existing_df['board_id'] == board_id).any()):\n",
    "            df.to_csv(f, index=False, header=False)\n",
    "        else:\n",
    "            # If the board_id exists, update the existing row\n",
    "            existing_df.loc[existing_df['board_id'] == board_id, df.columns] = df.values\n",
    "            # Order based on board_id column\n",
    "            existing_df = existing_df.sort_values(by='board_id')\n",
    "            # Rewrite the entire file\n",
    "            f.seek(0)\n",
    "            f.truncate()\n",
    "            existing_df.to_csv(f, index=False)\n"
   ]
  }
 ],
 "metadata": {
  "kernelspec": {
   "display_name": "abc",
   "language": "python",
   "name": "python3"
  },
  "language_info": {
   "codemirror_mode": {
    "name": "ipython",
    "version": 3
   },
   "file_extension": ".py",
   "mimetype": "text/x-python",
   "name": "python",
   "nbconvert_exporter": "python",
   "pygments_lexer": "ipython3",
   "version": "3.11.2"
  }
 },
 "nbformat": 4,
 "nbformat_minor": 5
}
