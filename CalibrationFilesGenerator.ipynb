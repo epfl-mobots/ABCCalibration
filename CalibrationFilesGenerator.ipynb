{
 "cells": [
  {
   "cell_type": "markdown",
   "id": "fbe38464",
   "metadata": {},
   "source": [
    "# This nb is used to generate the calibration files for the different ABCs' heaters"
   ]
  },
  {
   "cell_type": "markdown",
   "id": "1a249533",
   "metadata": {},
   "source": [
    "## Imports"
   ]
  },
  {
   "cell_type": "code",
   "execution_count": 1,
   "id": "7c76c467",
   "metadata": {},
   "outputs": [],
   "source": [
    "import pandas as pd\n",
    "from InfluxDBInterface.libdb import download_data_DB\n",
    "from libcal import getUUIDFromBoardID, frameBasePower, findMaxHtrPowers"
   ]
  },
  {
   "cell_type": "markdown",
   "id": "6e95743f",
   "metadata": {},
   "source": [
    "## Configuration"
   ]
  },
  {
   "cell_type": "code",
   "execution_count": 2,
   "id": "5b64fd6e",
   "metadata": {},
   "outputs": [],
   "source": [
    "board_id = \"abc05\""
   ]
  },
  {
   "cell_type": "markdown",
   "id": "68ecfeef",
   "metadata": {},
   "source": [
    "## Main code"
   ]
  },
  {
   "cell_type": "code",
   "execution_count": 3,
   "id": "9099c85c",
   "metadata": {},
   "outputs": [
    {
     "name": "stdout",
     "output_type": "stream",
     "text": [
      "No data found for the given query parameters.\n",
      "Found 0 entries between 2023-10-01 00:00:00+00:00 and 2025-10-19 12:43:41.317461+00:00 for board ID abc05.\n"
     ]
    },
    {
     "ename": "KeyError",
     "evalue": "'_measurement'",
     "output_type": "error",
     "traceback": [
      "\u001b[0;31m---------------------------------------------------------------------------\u001b[0m",
      "\u001b[0;31mKeyError\u001b[0m                                  Traceback (most recent call last)",
      "Cell \u001b[0;32mIn[3], line 18\u001b[0m\n\u001b[1;32m     15\u001b[0m data \u001b[38;5;241m=\u001b[39m download_data_DB(bucket, first_dt, last_dt, res, filters)\n\u001b[1;32m     16\u001b[0m \u001b[38;5;28mprint\u001b[39m(\u001b[38;5;124mf\u001b[39m\u001b[38;5;124m\"\u001b[39m\u001b[38;5;124mFound \u001b[39m\u001b[38;5;132;01m{\u001b[39;00m\u001b[38;5;28mlen\u001b[39m(data)\u001b[38;5;132;01m}\u001b[39;00m\u001b[38;5;124m entries between \u001b[39m\u001b[38;5;132;01m{\u001b[39;00mfirst_dt\u001b[38;5;132;01m}\u001b[39;00m\u001b[38;5;124m and \u001b[39m\u001b[38;5;132;01m{\u001b[39;00mlast_dt\u001b[38;5;132;01m}\u001b[39;00m\u001b[38;5;124m for board ID \u001b[39m\u001b[38;5;132;01m{\u001b[39;00mboard_id\u001b[38;5;132;01m}\u001b[39;00m\u001b[38;5;124m.\u001b[39m\u001b[38;5;124m\"\u001b[39m)\n\u001b[0;32m---> 18\u001b[0m base_power \u001b[38;5;241m=\u001b[39m \u001b[43mframeBasePower\u001b[49m\u001b[43m(\u001b[49m\u001b[43mdata\u001b[49m\u001b[43m)\u001b[49m\n\u001b[1;32m     19\u001b[0m \u001b[38;5;28mprint\u001b[39m(\u001b[38;5;124mf\u001b[39m\u001b[38;5;124m\"\u001b[39m\u001b[38;5;124mBase power consumption: \u001b[39m\u001b[38;5;132;01m{\u001b[39;00mbase_power\u001b[38;5;132;01m}\u001b[39;00m\u001b[38;5;124m W\u001b[39m\u001b[38;5;124m\"\u001b[39m)\n\u001b[1;32m     21\u001b[0m max_htr_powers \u001b[38;5;241m=\u001b[39m findMaxHtrPowers(data, base_power)\n",
      "File \u001b[0;32m~/Desktop/EPFL 2018-2026/PhD - Mobots/ABC/ABCCalibration/libcal.py:31\u001b[0m, in \u001b[0;36mframeBasePower\u001b[0;34m(abc_data)\u001b[0m\n\u001b[1;32m     27\u001b[0m \u001b[38;5;28;01mdef\u001b[39;00m \u001b[38;5;21mframeBasePower\u001b[39m(abc_data:pd\u001b[38;5;241m.\u001b[39mDataFrame):\n\u001b[1;32m     28\u001b[0m \u001b[38;5;250m    \u001b[39m\u001b[38;5;124;03m\"\"\"\u001b[39;00m\n\u001b[1;32m     29\u001b[0m \u001b[38;5;124;03m    Returns the base power consumption (W) when PWM=0 for the given \u001b[39;00m\n\u001b[1;32m     30\u001b[0m \u001b[38;5;124;03m    \"\"\"\u001b[39;00m\n\u001b[0;32m---> 31\u001b[0m     power \u001b[38;5;241m=\u001b[39m abc_data[(\u001b[43mabc_data\u001b[49m\u001b[43m[\u001b[49m\u001b[38;5;124;43m\"\u001b[39;49m\u001b[38;5;124;43m_measurement\u001b[39;49m\u001b[38;5;124;43m\"\u001b[39;49m\u001b[43m]\u001b[49m \u001b[38;5;241m==\u001b[39m \u001b[38;5;124m\"\u001b[39m\u001b[38;5;124mpwr\u001b[39m\u001b[38;5;124m\"\u001b[39m) \u001b[38;5;241m&\u001b[39m (abc_data[\u001b[38;5;124m\"\u001b[39m\u001b[38;5;124m_field\u001b[39m\u001b[38;5;124m\"\u001b[39m] \u001b[38;5;241m==\u001b[39m \u001b[38;5;124m\"\u001b[39m\u001b[38;5;124mpower\u001b[39m\u001b[38;5;124m\"\u001b[39m)]\n\u001b[1;32m     32\u001b[0m     pwm \u001b[38;5;241m=\u001b[39m abc_data[(abc_data[\u001b[38;5;124m\"\u001b[39m\u001b[38;5;124m_measurement\u001b[39m\u001b[38;5;124m\"\u001b[39m] \u001b[38;5;241m==\u001b[39m \u001b[38;5;124m\"\u001b[39m\u001b[38;5;124mhtr\u001b[39m\u001b[38;5;124m\"\u001b[39m)\u001b[38;5;241m&\u001b[39m (abc_data[\u001b[38;5;124m\"\u001b[39m\u001b[38;5;124m_field\u001b[39m\u001b[38;5;124m\"\u001b[39m] \u001b[38;5;241m==\u001b[39m \u001b[38;5;124m\"\u001b[39m\u001b[38;5;124mpwm\u001b[39m\u001b[38;5;124m\"\u001b[39m)]\n\u001b[1;32m     33\u001b[0m     power_times \u001b[38;5;241m=\u001b[39m power\u001b[38;5;241m.\u001b[39mindex\u001b[38;5;241m.\u001b[39munique()\n",
      "File \u001b[0;32m/opt/anaconda3/envs/imaging/lib/python3.11/site-packages/pandas/core/frame.py:4107\u001b[0m, in \u001b[0;36mDataFrame.__getitem__\u001b[0;34m(self, key)\u001b[0m\n\u001b[1;32m   4105\u001b[0m \u001b[38;5;28;01mif\u001b[39;00m \u001b[38;5;28mself\u001b[39m\u001b[38;5;241m.\u001b[39mcolumns\u001b[38;5;241m.\u001b[39mnlevels \u001b[38;5;241m>\u001b[39m \u001b[38;5;241m1\u001b[39m:\n\u001b[1;32m   4106\u001b[0m     \u001b[38;5;28;01mreturn\u001b[39;00m \u001b[38;5;28mself\u001b[39m\u001b[38;5;241m.\u001b[39m_getitem_multilevel(key)\n\u001b[0;32m-> 4107\u001b[0m indexer \u001b[38;5;241m=\u001b[39m \u001b[38;5;28;43mself\u001b[39;49m\u001b[38;5;241;43m.\u001b[39;49m\u001b[43mcolumns\u001b[49m\u001b[38;5;241;43m.\u001b[39;49m\u001b[43mget_loc\u001b[49m\u001b[43m(\u001b[49m\u001b[43mkey\u001b[49m\u001b[43m)\u001b[49m\n\u001b[1;32m   4108\u001b[0m \u001b[38;5;28;01mif\u001b[39;00m is_integer(indexer):\n\u001b[1;32m   4109\u001b[0m     indexer \u001b[38;5;241m=\u001b[39m [indexer]\n",
      "File \u001b[0;32m/opt/anaconda3/envs/imaging/lib/python3.11/site-packages/pandas/core/indexes/range.py:417\u001b[0m, in \u001b[0;36mRangeIndex.get_loc\u001b[0;34m(self, key)\u001b[0m\n\u001b[1;32m    415\u001b[0m         \u001b[38;5;28;01mraise\u001b[39;00m \u001b[38;5;167;01mKeyError\u001b[39;00m(key) \u001b[38;5;28;01mfrom\u001b[39;00m \u001b[38;5;21;01merr\u001b[39;00m\n\u001b[1;32m    416\u001b[0m \u001b[38;5;28;01mif\u001b[39;00m \u001b[38;5;28misinstance\u001b[39m(key, Hashable):\n\u001b[0;32m--> 417\u001b[0m     \u001b[38;5;28;01mraise\u001b[39;00m \u001b[38;5;167;01mKeyError\u001b[39;00m(key)\n\u001b[1;32m    418\u001b[0m \u001b[38;5;28mself\u001b[39m\u001b[38;5;241m.\u001b[39m_check_indexing_error(key)\n\u001b[1;32m    419\u001b[0m \u001b[38;5;28;01mraise\u001b[39;00m \u001b[38;5;167;01mKeyError\u001b[39;00m(key)\n",
      "\u001b[0;31mKeyError\u001b[0m: '_measurement'"
     ]
    }
   ],
   "source": [
    "first_dt = pd.Timestamp(\"2023-10-01T00:00:00Z\")\n",
    "last_dt = pd.Timestamp.now(tz=pd.Timestamp.utcnow().tz)\n",
    "res = 10 # resolution in seconds.\n",
    "bucket = \"abc_testing\"\n",
    "\n",
    "mcu_uuid = getUUIDFromBoardID(board_id)\n",
    "if mcu_uuid is None:\n",
    "    raise ValueError(f\"Board ID {board_id} not found in the database.\")\n",
    "\n",
    "filters = {\n",
    "    \"measurement\": [\"pwr\", \"htr\"],\n",
    "    \"mcu_uuid\": mcu_uuid\n",
    "}\n",
    "\n",
    "data = download_data_DB(bucket, first_dt, last_dt, res, filters)\n",
    "print(f\"Found {len(data)} entries between {first_dt} and {last_dt} for board ID {board_id}.\")\n",
    "\n",
    "base_power = frameBasePower(data)\n",
    "print(f\"Base power consumption: {base_power} W\")\n",
    "\n",
    "max_htr_powers = findMaxHtrPowers(data, base_power)\n",
    "print(f\"Max heater powers (W) for {board_id}:\")\n",
    "print(max_htr_powers)\n",
    "\n",
    "# Save the pd.Series as a new line to a CSV file\n",
    "csv_file = \"max_pwm_powers.csv\"\n",
    "df = max_htr_powers.to_frame().T\n",
    "df.insert(0, \"board_id\", board_id)\n",
    "df.loc[0, \"base\"] = base_power\n",
    "\n",
    "# If file does not exist, create it and write header\n",
    "try:\n",
    "    with open(csv_file, 'x') as f:\n",
    "        df.to_csv(f, index=False)\n",
    "except FileExistsError:\n",
    "    # If file exists, append without writing the header\n",
    "    with open(csv_file, 'a') as f:\n",
    "        # If a line starts with the same board_id, we want to update it instead of appending.\n",
    "        existing_df = pd.read_csv(csv_file)\n",
    "        if not ((existing_df['board_id'] == board_id).any()):\n",
    "            df.to_csv(f, index=False, header=False)\n",
    "        else:\n",
    "            # If the board_id exists, update the existing row\n",
    "            existing_df.loc[existing_df['board_id'] == board_id, df.columns] = df.values\n",
    "            # Order based on board_id column\n",
    "            existing_df = existing_df.sort_values(by='board_id')\n",
    "            # Rewrite the entire file\n",
    "            f.seek(0)\n",
    "            f.truncate()\n",
    "            existing_df.to_csv(f, index=False)\n"
   ]
  }
 ],
 "metadata": {
  "kernelspec": {
   "display_name": "imaging",
   "language": "python",
   "name": "python3"
  },
  "language_info": {
   "codemirror_mode": {
    "name": "ipython",
    "version": 3
   },
   "file_extension": ".py",
   "mimetype": "text/x-python",
   "name": "python",
   "nbconvert_exporter": "python",
   "pygments_lexer": "ipython3",
   "version": "3.11.0"
  }
 },
 "nbformat": 4,
 "nbformat_minor": 5
}
